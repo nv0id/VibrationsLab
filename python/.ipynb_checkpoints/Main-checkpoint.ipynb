{
 "cells": [
  {
   "cell_type": "markdown",
   "metadata": {},
   "source": [
    "# Vibrations Lab Notebook"
   ]
  },
  {
   "cell_type": "markdown",
   "metadata": {},
   "source": [
    "## Importing modules"
   ]
  },
  {
   "cell_type": "code",
   "execution_count": 8,
   "metadata": {},
   "outputs": [],
   "source": [
    "# For file finding:\n",
    "import os\n",
    "import glob\n",
    "\n",
    "# The usual:\n",
    "import numpy as np\n",
    "import pandas as pd\n",
    "import math\n",
    "import random as rand\n",
    "\n",
    "# Plotting:\n",
    "import matplotlib.pyplot as plt\n",
    "import matplotlib.ticker as ticker\n",
    "\n",
    "from pylab import rcParams\n",
    "import seaborn as sb\n",
    "\n",
    "# ML:\n",
    "from sklearn.linear_model import LinearRegression\n",
    "\n",
    "%matplotlib inline\n",
    "rcParams['figure.figsize'] = 10, 10\n",
    "sb.set_style('whitegrid')"
   ]
  },
  {
   "cell_type": "markdown",
   "metadata": {},
   "source": [
    "## Importing Data"
   ]
  },
  {
   "cell_type": "code",
   "execution_count": 106,
   "metadata": {},
   "outputs": [
    {
     "name": "stdout",
     "output_type": "stream",
     "text": [
      "Looking for files in:C:\\Users\\nvoid\\University of Bath\\Freddie Moorhead - Homepage - Documents\\01 Documents\\01 Course Content\\02 Year 2\\02 Solid\\Lab\\data\n",
      "found 350spring_50psi_compression0_rebound0_speed2.csv... adding\n",
      "found nospring_50psi_compression0_rebound0_speed2.csv... adding\n",
      "found nospring_50psi_compression0_rebound0_speed4.csv... adding\n",
      "found nospring_50psi_compression0_rebound4T_speed2.csv... adding\n",
      "found nospring_50psi_compression3p66T_rebound0_speed2.csv... adding\n",
      "\n",
      "\n",
      "Reading file_350spring_50psi_compression0_rebound0_speed2.csv...\n",
      "Reading file_nospring_50psi_compression0_rebound0_speed2.csv...\n",
      "Reading file_nospring_50psi_compression0_rebound0_speed4.csv...\n",
      "Reading file_nospring_50psi_compression0_rebound4T_speed2.csv...\n",
      "Reading file_nospring_50psi_compression3p66T_rebound0_speed2.csv...\n"
     ]
    }
   ],
   "source": [
    "# This goes and finds files in the specified path of a certain extension.\n",
    "# It then makes pandas dataframes out of them\n",
    "\n",
    "def file_finder(path,extension):\n",
    "\n",
    "    print('Looking for files in:'+path)\n",
    "\n",
    "    os.chdir(path) # Change dir to path\n",
    "    files = {}\n",
    "    for file in glob.glob(extension):\n",
    "        print('found',file+'... adding')\n",
    "        files[\"file{0}\".format('_'+file)] = path+'\\\\'+file\n",
    "    if len(files) == 0:\n",
    "        print('No files found :(')\n",
    "        return\n",
    "    \n",
    "    \n",
    "    print ('\\n')\n",
    "    \n",
    "    # Creates data frames from filenames:\n",
    "    dataframes = {}\n",
    "    for i,file in enumerate(files):\n",
    "        print( 'Reading ' + file + '...')\n",
    "        try:\n",
    "            dataframes[\"df_{}\".format(i)] = pd.read_csv(files[file])\n",
    "        except:\n",
    "            print('There was an error reading',file,'. Please check and try again')\n",
    "            return\n",
    "            \n",
    "    return file,dataframes\n",
    "\n",
    "dataframes = file_finder(r'C:\\Users\\nvoid\\University of Bath\\Freddie Moorhead - Homepage - Documents\\01 Documents\\01 Course Content\\02 Year 2\\02 Solid\\Lab\\data',\"*.csv\")"
   ]
  },
  {
   "cell_type": "code",
   "execution_count": null,
   "metadata": {},
   "outputs": [],
   "source": []
  },
  {
   "cell_type": "code",
   "execution_count": null,
   "metadata": {},
   "outputs": [],
   "source": []
  }
 ],
 "metadata": {
  "kernelspec": {
   "display_name": "Python 3",
   "language": "python",
   "name": "python3"
  },
  "language_info": {
   "codemirror_mode": {
    "name": "ipython",
    "version": 3
   },
   "file_extension": ".py",
   "mimetype": "text/x-python",
   "name": "python",
   "nbconvert_exporter": "python",
   "pygments_lexer": "ipython3",
   "version": "3.8.5"
  }
 },
 "nbformat": 4,
 "nbformat_minor": 4
}
