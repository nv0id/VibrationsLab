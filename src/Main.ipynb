{
 "cells": [
  {
   "cell_type": "markdown",
   "metadata": {},
   "source": [
    "# Vibrations Lab Notebook"
   ]
  },
  {
   "cell_type": "markdown",
   "metadata": {},
   "source": [
    "## Importing modules"
   ]
  },
  {
   "cell_type": "code",
   "execution_count": 8,
   "metadata": {},
   "outputs": [],
   "source": [
    "# For file finding:\n",
    "import os\n",
    "import glob\n",
    "\n",
    "# The usual:\n",
    "import numpy as np\n",
    "import pandas as pd\n",
    "import math\n",
    "import random as rand\n",
    "\n",
    "# Plotting:\n",
    "import matplotlib.pyplot as plt\n",
    "import matplotlib.ticker as ticker\n",
    "\n",
    "from pylab import rcParams\n",
    "import seaborn as sb\n",
    "\n",
    "# ML:\n",
    "from sklearn.linear_model import LinearRegression\n",
    "\n",
    "%matplotlib inline\n",
    "rcParams['figure.figsize'] = 10, 10\n",
    "sb.set_style('whitegrid')"
   ]
  },
  {
   "cell_type": "markdown",
   "metadata": {},
   "source": [
    "## Importing Data"
   ]
  },
  {
   "cell_type": "code",
   "execution_count": 272,
   "metadata": {},
   "outputs": [
    {
     "name": "stdout",
     "output_type": "stream",
     "text": [
      "Looking for files in:..\\data\n",
      "\n",
      "Found 1_350spring_50psi_compression0_rebound0_speed2.csv... adding\n",
      "Found 2_nospring_50psi_compression0_rebound0_speed2.csv... adding\n",
      "Found 3_nospring_50psi_compression0_rebound4T_speed2.csv... adding\n",
      "Found 4_nospring_50psi_compression3p66T_rebound0_speed2.csv... adding\n",
      "Found 5_nospring_50psi_compression0_rebound0_speed4.csv... adding\n",
      "Found constants.csv... adding\n",
      "\n",
      "\n",
      "Writing file_1_350spring_50psi_compression0_rebound0_speed2.csv to df_0\n",
      "Writing file_2_nospring_50psi_compression0_rebound0_speed2.csv to df_1\n",
      "Writing file_3_nospring_50psi_compression0_rebound4T_speed2.csv to df_2\n",
      "Writing file_4_nospring_50psi_compression3p66T_rebound0_speed2.csv to df_3\n",
      "Writing file_5_nospring_50psi_compression0_rebound0_speed4.csv to df_4\n",
      "Writing file_constants.csv to df_5\n"
     ]
    }
   ],
   "source": [
    "# This goes and finds files in the specified path of a certain extension.\n",
    "# It then makes pandas dataframes out of them\n",
    "\n",
    "# Can use suppres flag to hush output\n",
    "\n",
    "def file_finder(path,extension,suppress=False):\n",
    "\n",
    "    if not suppress:\n",
    "        print('Looking for files in:'+path+'\\n')\n",
    "\n",
    "    os.chdir(path) # Change dir to path\n",
    "    files = {}\n",
    "    for file in glob.glob(extension):\n",
    "        if not suppress:\n",
    "            print('Found',file+'... adding')\n",
    "        files[\"file{0}\".format('_'+file)] = path+'\\\\'+file\n",
    "        \n",
    "    if len(files) == 0:\n",
    "        print('No files found :(')\n",
    "        return # Exit function if no files found\n",
    "    \n",
    "    \n",
    "    print ('\\n')\n",
    "    \n",
    "    # Creates data frames from filenames:\n",
    "    dataframes = {}\n",
    "    for i,file in enumerate(files):\n",
    "        try:\n",
    "            dataframes[\"df_{}\".format(i)] = pd.read_csv(files[file])\n",
    "        except:\n",
    "            print('There was an error reading',file,'. Please check and try again')\n",
    "            return\n",
    "        if not suppress:\n",
    "            print( 'Writing ' + file + ' to ' + \"df_{}\".format(i))\n",
    "            \n",
    "    return dataframes\n",
    "\n",
    "dataframes = file_finder(r'..\\data',\"*.csv\")"
   ]
  },
  {
   "cell_type": "code",
   "execution_count": 273,
   "metadata": {},
   "outputs": [
    {
     "data": {
      "text/html": [
       "<div>\n",
       "<style scoped>\n",
       "    .dataframe tbody tr th:only-of-type {\n",
       "        vertical-align: middle;\n",
       "    }\n",
       "\n",
       "    .dataframe tbody tr th {\n",
       "        vertical-align: top;\n",
       "    }\n",
       "\n",
       "    .dataframe thead th {\n",
       "        text-align: right;\n",
       "    }\n",
       "</style>\n",
       "<table border=\"1\" class=\"dataframe\">\n",
       "  <thead>\n",
       "    <tr style=\"text-align: right;\">\n",
       "      <th></th>\n",
       "      <th>Unnamed: 0</th>\n",
       "      <th>Force</th>\n",
       "      <th>Displacement</th>\n",
       "      <th>Velocity</th>\n",
       "    </tr>\n",
       "  </thead>\n",
       "  <tbody>\n",
       "    <tr>\n",
       "      <th>0</th>\n",
       "      <td>Scale</td>\n",
       "      <td>0.4952</td>\n",
       "      <td>10.000</td>\n",
       "      <td>1.000</td>\n",
       "    </tr>\n",
       "    <tr>\n",
       "      <th>1</th>\n",
       "      <td>Offset</td>\n",
       "      <td>-0.4125</td>\n",
       "      <td>-1.365</td>\n",
       "      <td>0.007</td>\n",
       "    </tr>\n",
       "  </tbody>\n",
       "</table>\n",
       "</div>"
      ],
      "text/plain": [
       "  Unnamed: 0   Force  Displacement  Velocity\n",
       "0      Scale  0.4952        10.000     1.000\n",
       "1     Offset -0.4125        -1.365     0.007"
      ]
     },
     "execution_count": 273,
     "metadata": {},
     "output_type": "execute_result"
    }
   ],
   "source": [
    "df = dataframes['df_5']\n",
    "df.head(10)"
   ]
  },
  {
   "cell_type": "code",
   "execution_count": 271,
   "metadata": {},
   "outputs": [
    {
     "data": {
      "text/plain": [
       "Text(0, 0.5, 'Force / kN')"
      ]
     },
     "execution_count": 271,
     "metadata": {},
     "output_type": "execute_result"
    },
    {
     "data": {
      "image/png": "[encoded data removed]",
      "text/plain": [
       "<Figure size 720x720 with 1 Axes>"
      ]
     },
     "metadata": {},
     "output_type": "display_data"
    }
   ],
   "source": [
    "# Test graph\n",
    "xaxis='Velocity';xunit='V'\n",
    "yaxis='Force';yunit='kN'\n",
    "\n",
    "plt.scatter(x=df[xaxis],\n",
    "            y=df[yaxis],\n",
    "            s=1,\n",
    "            color='black'\n",
    "           )\n",
    "\n",
    "plt.xlabel(xaxis +' / '+ xunit)\n",
    "plt.ylabel(yaxis +' / '+ yunit)\n"
   ]
  },
  {
   "cell_type": "markdown",
   "metadata": {},
   "source": [
    "Now we have the data imported, it needs to be calibrated\n",
    "\n",
    "### Calibration\n",
    "- Add time column\n",
    "- Differentiate the diplacement signal numerically based on time separation\n",
    "    - Sample Frequency: **1000.0** Samples per second\n",
    "    - Sample Seconds: **2.00**\n",
    "- Plot derivative of the displacement against the voltage values\n",
    "- Calculate a line of best fit for the calibrating funciton.\n",
    "- Check units"
   ]
  },
  {
   "cell_type": "code",
   "execution_count": null,
   "metadata": {},
   "outputs": [],
   "source": [
    "def calibration(df):\n",
    "    "
   ]
  },
  {
   "cell_type": "code",
   "execution_count": 152,
   "metadata": {},
   "outputs": [],
   "source": [
    "'''\n",
    "     ---------------------------------------------------------------------\n",
    "    | Function can either generate a selected graph of data with a Linear |\n",
    "    | Regression line plotted on it and the equation of the line if graph |\n",
    "    | is True                                                             |\n",
    "    |                                                                     |\n",
    "    |                                or                                   |\n",
    "    |                                                                     |\n",
    "    |      By default it will return an array with the following:         |\n",
    "    |                                                                     |\n",
    "    |        [x1 coef,x2 coef.,std err of x1, std error of x2]            |\n",
    "     ---------------------------------------------------------------------\n",
    "\n",
    "'''\n",
    "def linreg(x_csv,y_csv,graph=False,title='',eqn=False):\n",
    "    \n",
    "    x = np.array(x_csv) # Parses in data\n",
    "    y = np.array(y_csv)\n",
    "    \n",
    "    if graph:\n",
    "        \n",
    "        linreg = LinearRegression()\n",
    "        x_rs = x.reshape(-1,1)        # Transposes array\n",
    "        linreg.fit(x_rs,y)            # Makes linear regression line\n",
    "        y_pred = linreg.predict(x_rs) # Generates predicted y values for each x value\n",
    "\n",
    "        fig = plt.figure()\n",
    "        ax = fig.add_subplot(111)\n",
    "        ax.scatter(x_rs,y,3)                               # Plots clock data on a scatter. 6 Series total\n",
    "        ax.plot(x_rs, y_pred, color='red', linewidth=0.5)  # Plots x values against predicted y values\n",
    "\n",
    "        scale_y = 1e-3                                                             # Set Scale\n",
    "        ticks_y = ticker.FuncFormatter(lambda y, pos: '{0:g}'.format(y/scale_y))   \n",
    "        ax.yaxis.set_major_formatter(ticks_y)                                      # Applies scale to y axis\n",
    "\n",
    "        plt.xlabel('Load / N')                  # Naming x axes\n",
    "        plt.ylabel('$\\delta$ / $10^{-3}$  m')   # Naming y axes\n",
    "        plt.title(title)\n",
    "        \n",
    "        plt.show\n",
    "        \n",
    "        if eqn:\n",
    "            print (\"Equation for regression line of\",\n",
    "                   title,\": >>> y =\",linreg.coef_[0],\"x +\",\n",
    "                   linreg.intercept_, \"<<<\")\n",
    "        \n",
    "        return ''\n",
    "    \n",
    "    if not graph:\n",
    "        \n",
    "        # Polyfit gives linear regression coefs.\n",
    "        # cov=True produces covarience from which std.error can be generated\n",
    "        # by squarooting the diagonals of the matrix.\n",
    "\n",
    "        coef, covar = np.polyfit(x,y,1,cov=True)\n",
    "\n",
    "        std_err_m = math.sqrt(covar[0,0])\n",
    "        std_err_intcpt = math.sqrt(covar[1,1])\n",
    "        \n",
    "        return [coef[0],coef[1],std_err_m,std_err_intcpt]\n",
    "\n",
    "        # print (\"Std Error of\",title,\">>> gradient  >>>\",std_err_m,\"<<<\")\n",
    "        # print (\"Std Error of\",title,\">>> intercept >>>\",std_err_intcpt,\"<<<\")"
   ]
  }
 ],
 "metadata": {
  "kernelspec": {
   "display_name": "Python 3",
   "language": "python",
   "name": "python3"
  },
  "language_info": {
   "codemirror_mode": {
    "name": "ipython",
    "version": 3
   },
   "file_extension": ".py",
   "mimetype": "text/x-python",
   "name": "python",
   "nbconvert_exporter": "python",
   "pygments_lexer": "ipython3",
   "version": "3.8.5"
  }
 },
 "nbformat": 4,
 "nbformat_minor": 4
}
